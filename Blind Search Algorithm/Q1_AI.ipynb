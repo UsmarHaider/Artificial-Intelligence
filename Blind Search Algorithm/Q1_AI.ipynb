{
 "cells": [
  {
   "cell_type": "code",
   "execution_count": 11,
   "metadata": {},
   "outputs": [],
   "source": [
    "def file_read(fname):\n",
    "    maze = []\n",
    "\n",
    "    with open(fname, 'r') as f:\n",
    "        while True :\n",
    "            line = f.readline()\n",
    "            line=line.strip('\\n')\n",
    "            line=line.split()\n",
    "            if not line:\n",
    "                break\n",
    "            maze.append(line)\n",
    "        \n",
    "    return  maze\n",
    "    "
   ]
  },
  {
   "cell_type": "code",
   "execution_count": 12,
   "metadata": {},
   "outputs": [
    {
     "data": {
      "text/plain": [
       "[['S', '0', '0', '0', '0', '0', '0', '0', '0', '1'],\n",
       " ['1', '1', '0', '1', '0', '1', '1', '1', '1', '1'],\n",
       " ['0', '1', '0', '1', '0', '0', '0', '0', '0', '1'],\n",
       " ['1', '1', '0', '1', '0', '1', '1', '1', '0', '1'],\n",
       " ['0', '1', '0', '1', '0', '0', '0', '1', '0', '0'],\n",
       " ['0', '1', '2', '0', '0', '1', '1', '1', '1', '1'],\n",
       " ['0', '0', '0', '0', '0', '0', '0', '0', '0', '1'],\n",
       " ['1', '1', '1', '1', '0', '1', '1', '1', '0', '1'],\n",
       " ['0', '0', '0', '0', '0', '1', '0', '0', '0', '1'],\n",
       " ['0', '1', '1', '1', '1', '1', '0', '1', '0', 'G']]"
      ]
     },
     "execution_count": 12,
     "metadata": {},
     "output_type": "execute_result"
    }
   ],
   "source": [
    "maze = file_read('maze.txt')\n",
    "maze"
   ]
  },
  {
   "cell_type": "code",
   "execution_count": 13,
   "metadata": {},
   "outputs": [],
   "source": [
    "def find_start(maze):\n",
    "    for i in range(len(maze)):\n",
    "        for j in range(len(maze[i])):\n",
    "            if maze[i][j] == 'S':\n",
    "                return (i, j)\n",
    "    return None"
   ]
  },
  {
   "cell_type": "code",
   "execution_count": 14,
   "metadata": {},
   "outputs": [],
   "source": [
    "def find_end(maze):\n",
    "    for i in range(len(maze)):\n",
    "        for j in range(len(maze[i])):\n",
    "            if maze[i][j] == 'G':\n",
    "                return (i, j)\n",
    "    return None"
   ]
  },
  {
   "cell_type": "code",
   "execution_count": 15,
   "metadata": {},
   "outputs": [
    {
     "data": {
      "text/plain": [
       "(0, 0)"
      ]
     },
     "execution_count": 15,
     "metadata": {},
     "output_type": "execute_result"
    }
   ],
   "source": [
    "start = find_start(maze)\n",
    "start\n"
   ]
  },
  {
   "cell_type": "code",
   "execution_count": 16,
   "metadata": {},
   "outputs": [
    {
     "data": {
      "text/plain": [
       "(9, 9)"
      ]
     },
     "execution_count": 16,
     "metadata": {},
     "output_type": "execute_result"
    }
   ],
   "source": [
    "end=find_end(maze)\n",
    "end"
   ]
  },
  {
   "cell_type": "code",
   "execution_count": 17,
   "metadata": {},
   "outputs": [],
   "source": [
    "def dfs(maze, start, end):\n",
    "    stack = [start]\n",
    "    visited = set()\n",
    "    parent = {start: None}\n",
    "    while stack:\n",
    "        current = stack.pop()\n",
    "        if current == end:\n",
    "            path = []\n",
    "            while current:\n",
    "                path.append(current)\n",
    "                current = parent[current]\n",
    "            return path[::-1]\n",
    "        if current in visited:\n",
    "            continue\n",
    "        visited.add(current)\n",
    "        x, y = current\n",
    "        for next in [(x+1, y), (x-1, y), (x, y+1), (x, y-1)]:\n",
    "            if next[0] < 0 or next[0] >= len(maze) or next[1] < 0 or next[1] >= len(maze[0]):\n",
    "                continue\n",
    "            if maze[next[0]][next[1]] == '1':\n",
    "                continue\n",
    "            if next in visited:\n",
    "                continue\n",
    "            stack.append(next)\n",
    "            parent[next] = current\n",
    "    return None"
   ]
  },
  {
   "cell_type": "code",
   "execution_count": 18,
   "metadata": {},
   "outputs": [
    {
     "name": "stdout",
     "output_type": "stream",
     "text": [
      "[(0, 0), (0, 1), (0, 2), (0, 3), (0, 4), (1, 4), (2, 4), (3, 4), (4, 4), (5, 4), (5, 3), (5, 2), (6, 2), (6, 3), (6, 4), (6, 5), (6, 6), (6, 7), (6, 8), (7, 8), (8, 8), (9, 8), (9, 9)]\n"
     ]
    }
   ],
   "source": [
    "path = dfs(maze, start, end)\n",
    "print(path)"
   ]
  },
  {
   "cell_type": "code",
   "execution_count": 19,
   "metadata": {},
   "outputs": [
    {
     "name": "stdout",
     "output_type": "stream",
     "text": [
      "[(0, 0), (0, 1), (0, 2), (0, 3), (0, 4), (1, 4), (2, 4), (3, 4), (4, 4), (5, 4), (6, 4), (6, 5), (6, 6), (6, 7), (6, 8), (7, 8), (8, 8), (9, 8), (9, 9)]\n"
     ]
    }
   ],
   "source": [
    "def bfs(maze, start, end):\n",
    "    queue = [start]\n",
    "    visited = set()\n",
    "    parent = {start: None}\n",
    "    while queue:\n",
    "        current = queue.pop(0)\n",
    "        if current == end:\n",
    "            path = []\n",
    "            while current:\n",
    "                path.append(current)\n",
    "                current = parent[current]\n",
    "            return path[::-1]\n",
    "        if current in visited:\n",
    "            continue\n",
    "        visited.add(current)\n",
    "        x, y = current\n",
    "        for next in [(x+1, y), (x-1, y), (x, y+1), (x, y-1)]:\n",
    "            if next[0] < 0 or next[0] >= len(maze) or next[1] < 0 or next[1] >= len(maze[0]):\n",
    "                continue\n",
    "            if maze[next[0]][next[1]] == '1':\n",
    "                continue\n",
    "            if next in visited:\n",
    "                continue\n",
    "            queue.append(next)\n",
    "            parent[next] = current\n",
    "    return None\n",
    "\n",
    "#print bfs path\n",
    "path = bfs(maze, start, end)\n",
    "print(path)\n",
    "\n",
    "\n"
   ]
  },
  {
   "cell_type": "code",
   "execution_count": null,
   "metadata": {},
   "outputs": [],
   "source": []
  }
 ],
 "metadata": {
  "kernelspec": {
   "display_name": "Python 3",
   "language": "python",
   "name": "python3"
  },
  "language_info": {
   "codemirror_mode": {
    "name": "ipython",
    "version": 3
   },
   "file_extension": ".py",
   "mimetype": "text/x-python",
   "name": "python",
   "nbconvert_exporter": "python",
   "pygments_lexer": "ipython3",
   "version": "3.10.6"
  },
  "orig_nbformat": 4,
  "vscode": {
   "interpreter": {
    "hash": "a85ff3f6e32ae39ff7846f8389dc1439abb45b76e32f9a5bf576e49171ee0ea4"
   }
  }
 },
 "nbformat": 4,
 "nbformat_minor": 2
}
