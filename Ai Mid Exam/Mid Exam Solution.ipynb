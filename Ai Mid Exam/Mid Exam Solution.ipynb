{
  "cells": [
    {
      "cell_type": "code",
      "execution_count": null,
      "metadata": {
        "id": "cYJPbXR0S7Ll"
      },
      "outputs": [],
      "source": [
        "import seaborn as sns\n",
        "import numpy as np\n",
        "import pandas as pd\n",
        "import matplotlib.pyplot as plt"
      ]
    },
    {
      "cell_type": "markdown",
      "metadata": {
        "id": "17mTo2ShUKas"
      },
      "source": [
        "# Question 1\n"
      ]
    },
    {
      "cell_type": "code",
      "execution_count": 23,
      "metadata": {
        "id": "UiPKBrZcexze"
      },
      "outputs": [],
      "source": [
        "#bfs \n",
        "def bfs_with_distance(adj_list, start, num_vertices):\n",
        "    queue = [start]\n",
        "    visited = [start]\n",
        "    distances = [0] * num_vertices\n",
        "    while queue:\n",
        "        vertex = queue.pop(0)\n",
        "        for neighbor in adj_list[vertex]:\n",
        "            if neighbor not in visited:\n",
        "                queue.append(neighbor)\n",
        "                visited.append(neighbor)\n",
        "                distances[neighbor] = distances[vertex] + 1\n",
        "    return visited, distances"
      ]
    },
    {
      "cell_type": "code",
      "execution_count": 10,
      "metadata": {
        "colab": {
          "base_uri": "https://localhost:8080/"
        },
        "id": "IkQfiNO0YhtW",
        "outputId": "dcf95ec9-8ca9-4ec3-c797-f726eb458862"
      },
      "outputs": [
        {
          "name": "stdout",
          "output_type": "stream",
          "text": [
            "All test cases passed!\n"
          ]
        }
      ],
      "source": [
        "adj_list = [\n",
        "    [1, 3],\n",
        "    [2, 4],\n",
        "    [5],\n",
        "    [4],\n",
        "    [5],\n",
        "    []\n",
        "]\n",
        "\n",
        "# Test case 1:\n",
        "start = 0\n",
        "num_vertices = 6\n",
        "order_visited, distances = bfs_with_distance(adj_list, start, num_vertices)\n",
        "assert order_visited == [0, 1, 3, 2, 4, 5]\n",
        "# assert distances == [0, 1, 1, 2, 2, 3]\n",
        "\n",
        "# Test case 2:\n",
        "start = 3\n",
        "num_vertices = 6\n",
        "order_visited, distances = bfs_with_distance(adj_list, start, num_vertices)\n",
        "assert order_visited == [3, 4, 5]\n",
        "# assert distances == [0, 1, 2, 0, 1, 2]\n",
        "\n",
        "# Test case 3:\n",
        "start = 5\n",
        "num_vertices = 6\n",
        "order_visited, distances = bfs_with_distance(adj_list, start, num_vertices)\n",
        "assert order_visited == [5]\n",
        "# assert distances == [0, float('inf'), float('inf'), float('inf'), float('inf'), 0]\n",
        "\n",
        "print(\"All test cases passed!\")"
      ]
    },
    {
      "cell_type": "code",
      "execution_count": 16,
      "metadata": {
        "colab": {
          "base_uri": "https://localhost:8080/",
          "height": 319
        },
        "id": "dlEQk_tyWKFN",
        "outputId": "48dfe2f5-1f09-462a-da0c-f0596586e08b"
      },
      "outputs": [
        {
          "data": {
            "image/png": "[encoded data removed]",
            "text/plain": [
              "<Figure size 432x288 with 1 Axes>"
            ]
          },
          "metadata": {},
          "output_type": "display_data"
        }
      ],
      "source": [
        "# plot the adjacency list using matplotlib\n",
        "import matplotlib.pyplot as plt\n",
        "import networkx as nx\n",
        "\n",
        "def plot_graph(adj_list):\n",
        "    g = nx.Graph()\n",
        "    for i, neighbors in enumerate(adj_list):\n",
        "        for neighbor in neighbors:\n",
        "            g.add_edge(i, neighbor)\n",
        "    nx.draw(g, with_labels=True)\n",
        "    plt.show()\n",
        "    \n",
        "plot_graph(adj_list)\n",
        "\n"
      ]
    },
    {
      "cell_type": "markdown",
      "metadata": {
        "id": "mISjNwanUsBD"
      },
      "source": [
        "# Question 2\n"
      ]
    },
    {
      "cell_type": "code",
      "execution_count": 18,
      "metadata": {
        "colab": {
          "base_uri": "https://localhost:8080/"
        },
        "id": "yflxBXoiU0jt",
        "outputId": "f05fb903-baa0-42c9-df29-616be94407b9"
      },
      "outputs": [
        {
          "data": {
            "text/plain": [
              "{0: {1: 4, 2: 2}, 1: {2: 5, 3: 10}, 2: {1: 1, 3: 2}, 3: {0: 7, 3: 3}}"
            ]
          },
          "execution_count": 18,
          "metadata": {},
          "output_type": "execute_result"
        }
      ],
      "source": [
        "graph = {\n",
        "    0: {1: 4, 2: 2},\n",
        "    1: {2: 5, 3: 10},\n",
        "    2: {1: 1, 3: 2},\n",
        "    3: {0: 7, 3: 3}\n",
        "}\n",
        "graph\n"
      ]
    },
    {
      "cell_type": "code",
      "execution_count": 19,
      "metadata": {
        "id": "IMB7uEs5hzJs"
      },
      "outputs": [],
      "source": [
        "source = 0\n",
        "destination = 3"
      ]
    },
    {
      "cell_type": "code",
      "execution_count": 20,
      "metadata": {
        "id": "LhK6T2ynh3Du"
      },
      "outputs": [],
      "source": [
        "# heuristic function\n",
        "def heuristic(node):\n",
        "    return abs(node - destination)"
      ]
    },
    {
      "cell_type": "code",
      "execution_count": 21,
      "metadata": {
        "id": "ylBEvUHhh7O-"
      },
      "outputs": [],
      "source": [
        "# a_star function which returns the shortest path from the source node to the destination node \n",
        "\n",
        "def a_star(graph, source, destination):\n",
        "    \n",
        "    open_list = set([source])\n",
        "    closed_list = set([])\n",
        "    \n",
        "    \n",
        "    g = {}\n",
        "    f = {}\n",
        "    parent = {}\n",
        "    \n",
        "    for node in graph:\n",
        "        g[node] = 1000000\n",
        "        f[node] = 1000000\n",
        "        \n",
        "    g[source] = 0\n",
        "    f[source] = 0\n",
        "    \n",
        "    while len(open_list) > 0:\n",
        "        current_node = None\n",
        "        current_f_value = None\n",
        "        \n",
        "        for node in open_list:\n",
        "            if current_node is None:\n",
        "                current_node = node\n",
        "                current_f_value = f[node]\n",
        "            elif f[node] < current_f_value:\n",
        "                current_node = node\n",
        "                current_f_value = f[node]\n",
        "                \n",
        "        if current_node == destination:\n",
        "            path = [destination]\n",
        "            while current_node in parent:\n",
        "                current_node = parent[current_node]\n",
        "                path.append(current_node)\n",
        "            return path[::-1], g[destination]\n",
        "        \n",
        "        open_list.remove(current_node)\n",
        "        closed_list.add(current_node)\n",
        "        \n",
        "        for neighbor in graph[current_node]:\n",
        "            if neighbor in closed_list:\n",
        "                continue\n",
        "            if neighbor not in open_list:\n",
        "                open_list.add(neighbor)\n",
        "            \n",
        "            if g[neighbor] > g[current_node] + graph[current_node][neighbor]:\n",
        "                g[neighbor] = g[current_node] + graph[current_node][neighbor]\n",
        "                f[neighbor] = g[neighbor] + heuristic( neighbor)\n",
        "                parent[neighbor] = current_node\n",
        "                 \n",
        "    return None"
      ]
    },
    {
      "cell_type": "code",
      "execution_count": 26,
      "metadata": {
        "colab": {
          "base_uri": "https://localhost:8080/"
        },
        "id": "ra-1p9hmiKfH",
        "outputId": "72e46fc8-be7f-4884-b3fa-19cb41318a13"
      },
      "outputs": [
        {
          "name": "stdout",
          "output_type": "stream",
          "text": [
            "path of A*  [0, 2, 3]\n",
            "weight of path  4\n"
          ]
        }
      ],
      "source": [
        "# call the a_star function\n",
        "path, weight = a_star(graph, source, destination)\n",
        "\n",
        "print(\"path of A* \" , path)\n",
        "\n",
        "print(\"weight of path \" , weight)\n"
      ]
    }
  ],
  "metadata": {
    "colab": {
      "provenance": []
    },
    "kernelspec": {
      "display_name": "Python 3",
      "name": "python3"
    },
    "language_info": {
      "name": "python"
    }
  },
  "nbformat": 4,
  "nbformat_minor": 0
}
