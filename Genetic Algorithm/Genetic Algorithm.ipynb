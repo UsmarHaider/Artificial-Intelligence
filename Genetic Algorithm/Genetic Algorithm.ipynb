{
  "cells": [
    {
      "cell_type": "code",
      "execution_count": 6,
      "metadata": {
        "colab": {
          "base_uri": "https://localhost:8080/"
        },
        "id": "HBFmkH0TJDAG",
        "outputId": "8401aaf1-b080-4e48-cec4-356c89c581d2"
      },
      "outputs": [],
      "source": [
        "import random\n",
        "\n",
        "# Set the size of the chessboard\n",
        "n = 8"
      ]
    },
    {
      "cell_type": "code",
      "execution_count": 7,
      "metadata": {},
      "outputs": [],
      "source": [
        "# Define the fitness function to evaluate the fitness of a candidate solution\n",
        "def fitness(solution):\n",
        "    conflicts = 0\n",
        "    for i in range(n):\n",
        "        for j in range(i+1, n):\n",
        "            if solution[i] == solution[j]:\n",
        "                conflicts += 1\n",
        "            elif abs(solution[i] - solution[j]) == j - i:\n",
        "                conflicts += 1\n",
        "    return 1 / (conflicts + 1)\n"
      ]
    },
    {
      "cell_type": "code",
      "execution_count": 8,
      "metadata": {},
      "outputs": [],
      "source": [
        "# Define the genetic algorithm\n",
        "def genetic_algorithm(pop_size, elite_size, mutation_rate, generations):\n",
        "    # Create the initial population\n",
        "    population = []\n",
        "    for i in range(pop_size):\n",
        "        solution = [random.randint(0, n-1) for j in range(n)]\n",
        "        population.append(solution)\n",
        "    \n",
        "    # Evolution loop\n",
        "    for generation in range(generations):\n",
        "        # Calculate the fitness of each candidate solution\n",
        "        fitness_scores = []\n",
        "        for solution in population:\n",
        "            fitness_scores.append((solution, fitness(solution)))\n",
        "        \n",
        "        # Sort the population by fitness in descending order\n",
        "        population = [x[0] for x in sorted(fitness_scores, key=lambda x: x[1], reverse=True)]\n",
        "        \n",
        "        # Keep the elite solutions from the previous generation\n",
        "        elite = population[:elite_size]\n",
        "        \n",
        "        # Select the parents for the next generation\n",
        "        mating_pool = []\n",
        "        for solution in population:\n",
        "            fitness_score = fitness(solution)\n",
        "            num_reproductions = int(fitness_score * pop_size)\n",
        "            for i in range(num_reproductions):\n",
        "                mating_pool.append(solution)\n",
        "        \n",
        "        # Create the next generation by crossover and mutation\n",
        "        next_generation = []\n",
        "        for i in range(pop_size - elite_size):\n",
        "            parent1 = random.choice(mating_pool)\n",
        "            parent2 = random.choice(mating_pool)\n",
        "            child = crossover(parent1, parent2)\n",
        "            child = mutate(child, mutation_rate)\n",
        "            next_generation.append(child)\n",
        "\n",
        "        # Add the elite solutions to the next generation\n",
        "        next_generation.extend(elite)\n",
        "\n",
        "        # Replace the current population with the next generation\n",
        "        population = next_generation\n",
        "\n",
        "    # Return the best solution from the final generation\n",
        "    return population[0]\n"
      ]
    },
    {
      "cell_type": "code",
      "execution_count": 9,
      "metadata": {},
      "outputs": [],
      "source": [
        "# Define the crossover function to combine two parent solutions\n",
        "def crossover(parent1, parent2):\n",
        "    child = []\n",
        "    for i in range(n):\n",
        "        if random.random() < 0.5:\n",
        "            child.append(parent1[i])\n",
        "        else:\n",
        "            child.append(parent2[i])\n",
        "    return child\n",
        "\n"
      ]
    },
    {
      "cell_type": "code",
      "execution_count": 10,
      "metadata": {},
      "outputs": [],
      "source": [
        "# Define the mutation function to randomly change a solution\n",
        "def mutate(solution, mutation_rate):\n",
        "    for i in range(n):\n",
        "        if random.random() < mutation_rate:\n",
        "            solution[i] = random.randint(0, n-1)\n",
        "    return solution\n"
      ]
    },
    {
      "cell_type": "code",
      "execution_count": 11,
      "metadata": {},
      "outputs": [],
      "source": [
        "# Run the genetic algorithm\n",
        "solution = genetic_algorithm(100, 20, 0.01, 1000)\n"
      ]
    },
    {
      "cell_type": "code",
      "execution_count": 12,
      "metadata": {},
      "outputs": [
        {
          "name": "stdout",
          "output_type": "stream",
          "text": [
            "[3, 0, 4, 7, 1, 6, 2, 4]\n"
          ]
        }
      ],
      "source": [
        "# Print the solution\n",
        "print(solution)"
      ]
    },
    {
      "cell_type": "code",
      "execution_count": null,
      "metadata": {},
      "outputs": [],
      "source": []
    }
  ],
  "metadata": {
    "colab": {
      "provenance": []
    },
    "kernelspec": {
      "display_name": "Python 3",
      "name": "python3"
    },
    "language_info": {
      "codemirror_mode": {
        "name": "ipython",
        "version": 3
      },
      "file_extension": ".py",
      "mimetype": "text/x-python",
      "name": "python",
      "nbconvert_exporter": "python",
      "pygments_lexer": "ipython3",
      "version": "3.10.6"
    }
  },
  "nbformat": 4,
  "nbformat_minor": 0
}
